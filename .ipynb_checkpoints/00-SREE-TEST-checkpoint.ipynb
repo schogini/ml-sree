{
 "cells": [
  {
   "cell_type": "markdown",
   "id": "6b823fc2",
   "metadata": {
    "toc": true
   },
   "source": [
    "<h1>Table of Contents<span class=\"tocSkip\"></span></h1>\n",
    "<div class=\"toc\"><ul class=\"toc-item\"><li><span><a href=\"#2.4.1\" data-toc-modified-id=\"2.4.1-1\"><span class=\"toc-item-num\">1&nbsp;&nbsp;</span>2.4.1</a></span></li><li><span><a href=\"#1.20.3\" data-toc-modified-id=\"1.20.3-2\"><span class=\"toc-item-num\">2&nbsp;&nbsp;</span>1.20.3</a></span></li><li><span><a href=\"#1.3.4\" data-toc-modified-id=\"1.3.4-3\"><span class=\"toc-item-num\">3&nbsp;&nbsp;</span>1.3.4</a></span></li><li><span><a href=\"#AFTER-UPDATE-TENSORFLOW\" data-toc-modified-id=\"AFTER-UPDATE-TENSORFLOW-4\"><span class=\"toc-item-num\">4&nbsp;&nbsp;</span>AFTER UPDATE TENSORFLOW</a></span></li><li><span><a href=\"#conda-upgrade-tensorflow\" data-toc-modified-id=\"conda-upgrade-tensorflow-5\"><span class=\"toc-item-num\">5&nbsp;&nbsp;</span>conda upgrade tensorflow</a></span></li></ul></div>"
   ]
  },
  {
   "cell_type": "code",
   "execution_count": 1,
   "id": "9011977d",
   "metadata": {},
   "outputs": [],
   "source": [
    "import pandas as pd\n",
    "import numpy as np\n",
    "from sklearn import linear_model\n",
    "import matplotlib.pyplot as plt\n",
    "import tensorflow as tf"
   ]
  },
  {
   "cell_type": "code",
   "execution_count": 2,
   "id": "73b6d544",
   "metadata": {},
   "outputs": [
    {
     "name": "stdout",
     "output_type": "stream",
     "text": [
      "2.4.1\n",
      "1.20.3\n",
      "1.3.4\n"
     ]
    }
   ],
   "source": [
    "print(tf.__version__)\n",
    "print(np.__version__)\n",
    "print(pd.__version__)\n",
    "\n"
   ]
  },
  {
   "cell_type": "markdown",
   "id": "4c5a6374",
   "metadata": {},
   "source": [
    "# 2.4.1\n",
    "# 1.20.3\n",
    "# 1.3.4"
   ]
  },
  {
   "cell_type": "markdown",
   "id": "89ed84b6",
   "metadata": {},
   "source": [
    "# AFTER UPDATE TENSORFLOW\n",
    "# conda upgrade tensorflow"
   ]
  },
  {
   "cell_type": "code",
   "execution_count": 1,
   "id": "590708a5",
   "metadata": {},
   "outputs": [],
   "source": [
    "import pandas as pd\n",
    "import numpy as np\n",
    "from sklearn import linear_model\n",
    "import matplotlib.pyplot as plt\n",
    "import tensorflow as tf"
   ]
  },
  {
   "cell_type": "code",
   "execution_count": 2,
   "id": "2cffa963",
   "metadata": {},
   "outputs": [
    {
     "name": "stdout",
     "output_type": "stream",
     "text": [
      "2.5.0\n",
      "1.19.5\n",
      "1.3.4\n"
     ]
    }
   ],
   "source": [
    "print(tf.__version__)\n",
    "print(np.__version__)\n",
    "print(pd.__version__)"
   ]
  },
  {
   "cell_type": "code",
   "execution_count": 3,
   "id": "65dc2ede",
   "metadata": {},
   "outputs": [
    {
     "name": "stdout",
     "output_type": "stream",
     "text": [
      "Num GPUs Available:  0\n"
     ]
    }
   ],
   "source": [
    "print(\"Num GPUs Available: \", len(tf.config.list_physical_devices('GPU')))"
   ]
  },
  {
   "cell_type": "code",
   "execution_count": 5,
   "id": "4a2c982d",
   "metadata": {},
   "outputs": [
    {
     "data": {
      "text/plain": [
       "[PhysicalDevice(name='/physical_device:CPU:0', device_type='CPU')]"
      ]
     },
     "execution_count": 5,
     "metadata": {},
     "output_type": "execute_result"
    }
   ],
   "source": [
    "tf.config.list_physical_devices()"
   ]
  },
  {
   "cell_type": "code",
   "execution_count": null,
   "id": "99d79f58",
   "metadata": {},
   "outputs": [],
   "source": [
    "# AFTER 2.7 UPGRADE\n",
    "python -m pip  install tensorflow==2.7"
   ]
  },
  {
   "cell_type": "code",
   "execution_count": 1,
   "id": "e76d76e1",
   "metadata": {},
   "outputs": [
    {
     "name": "stdout",
     "output_type": "stream",
     "text": [
      "2.7.0\n",
      "1.19.5\n",
      "1.3.4\n"
     ]
    }
   ],
   "source": [
    "import pandas as pd\n",
    "import numpy as np\n",
    "from sklearn import linear_model\n",
    "import matplotlib.pyplot as plt\n",
    "import tensorflow as tf\n",
    "print(tf.__version__)\n",
    "print(np.__version__)\n",
    "print(pd.__version__)"
   ]
  },
  {
   "cell_type": "code",
   "execution_count": null,
   "id": "53d57a90",
   "metadata": {},
   "outputs": [],
   "source": []
  }
 ],
 "metadata": {
  "kernelspec": {
   "display_name": "Python 3 (ipykernel)",
   "language": "python",
   "name": "python3"
  },
  "language_info": {
   "codemirror_mode": {
    "name": "ipython",
    "version": 3
   },
   "file_extension": ".py",
   "mimetype": "text/x-python",
   "name": "python",
   "nbconvert_exporter": "python",
   "pygments_lexer": "ipython3",
   "version": "3.9.7"
  },
  "toc": {
   "base_numbering": 1,
   "nav_menu": {},
   "number_sections": true,
   "sideBar": true,
   "skip_h1_title": false,
   "title_cell": "Table of Contents",
   "title_sidebar": "Contents",
   "toc_cell": true,
   "toc_position": {},
   "toc_section_display": true,
   "toc_window_display": true
  }
 },
 "nbformat": 4,
 "nbformat_minor": 5
}
